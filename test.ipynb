{
 "cells": [
  {
   "cell_type": "code",
   "execution_count": 7,
   "metadata": {},
   "outputs": [
    {
     "name": "stdout",
     "output_type": "stream",
     "text": [
      "[233 233 233 233 233 185  42  30  30  30  30  92 203 232 232 232 232 232\n",
      " 232 232 232 232 232 205  92  30  30  30  30  30  30  30  30 147 230 231\n",
      " 231 231 231]\n"
     ]
    }
   ],
   "source": [
    "from PIL import Image\n",
    "import numpy as np\n",
    "\n",
    "def read_image_to_numpy(image_path):\n",
    "    # 打开图片\n",
    "    image = Image.open(image_path)\n",
    "    \n",
    "    image =  image.convert('L')\n",
    "    # 将图片转换为NumPy数组\n",
    "    image_array = np.array(image)\n",
    "    \n",
    "    return image_array\n",
    "\n",
    "# 图片路径\n",
    "image_path = 'E:\\code\\DouZero_For_HappyDouDiZhu\\pics\\mb2.png'\n",
    "\n",
    "# 读取图片并转换为NumPy数组\n",
    "image_array = read_image_to_numpy(image_path)\n",
    "\n",
    "# 打印数组形状\n",
    "print(image_array[10,:])\n"
   ]
  },
  {
   "cell_type": "code",
   "execution_count": 8,
   "metadata": {},
   "outputs": [
    {
     "name": "stdout",
     "output_type": "stream",
     "text": [
      "[233 233 233 233 233 220 110  79  79  79  79 179 232 232 232 232 232 232\n",
      " 232 232 232 232 232 232 232 232 230 130  79  79  79  79  79  79  79  86\n",
      " 206 231 231 231 231 230 229]\n"
     ]
    }
   ],
   "source": [
    "print(read_image_to_numpy('E:\\code\\DouZero_For_HappyDouDiZhu\\pics\\mr2.png')[10,:])"
   ]
  },
  {
   "cell_type": "code",
   "execution_count": 9,
   "metadata": {},
   "outputs": [
    {
     "name": "stdout",
     "output_type": "stream",
     "text": [
      "[233 233 233 233 233 233 233 233 227 149  42  30  30  30  30  30  30  58\n",
      " 160 197 214 221 221 216 204 181 109  30  30  30  30  30  30  30  96 214\n",
      " 231 231 231 231 231 231 230 230 228]\n"
     ]
    }
   ],
   "source": [
    "print(read_image_to_numpy('E:\\code\\DouZero_For_HappyDouDiZhu\\pics\\mb8.png')[10,:])"
   ]
  },
  {
   "cell_type": "code",
   "execution_count": 10,
   "metadata": {},
   "outputs": [
    {
     "name": "stdout",
     "output_type": "stream",
     "text": [
      "[233 233 233 233 233 233 233 233 233 233 233 233 233 233 233 233 233 233\n",
      " 228 116  79  79  79  79  79  79 170 232 232 232 232 232 232 232 232 232\n",
      " 232 232 231 231 231 231 231 231]\n"
     ]
    }
   ],
   "source": [
    "print(read_image_to_numpy('E:\\code\\DouZero_For_HappyDouDiZhu\\pics\\mrA.png')[10,:])"
   ]
  }
 ],
 "metadata": {
  "kernelspec": {
   "display_name": "douzero",
   "language": "python",
   "name": "python3"
  },
  "language_info": {
   "codemirror_mode": {
    "name": "ipython",
    "version": 3
   },
   "file_extension": ".py",
   "mimetype": "text/x-python",
   "name": "python",
   "nbconvert_exporter": "python",
   "pygments_lexer": "ipython3",
   "version": "3.6.13"
  }
 },
 "nbformat": 4,
 "nbformat_minor": 2
}
